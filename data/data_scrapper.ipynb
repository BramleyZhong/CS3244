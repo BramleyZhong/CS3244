{
 "cells": [
  {
   "cell_type": "code",
   "execution_count": 1,
   "metadata": {},
   "outputs": [],
   "source": [
    "# use beautiful soup to scrape data from \"basketball reference\"\n",
    "from urllib.request import urlopen\n",
    "from bs4 import BeautifulSoup\n",
    "import pandas as pd"
   ]
  },
  {
   "cell_type": "code",
   "execution_count": 2,
   "metadata": {},
   "outputs": [],
   "source": [
    "# common data processing libraries\n",
    "import pandas as pd\n",
    "import numpy as np"
   ]
  },
  {
   "cell_type": "code",
   "execution_count": 3,
   "metadata": {},
   "outputs": [],
   "source": [
    "# NBA season to be scrapped\n",
    "year = 2019\n",
    "\n",
    "# URL page\n",
    "url = \"https://www.basketball-reference.com/leagues/NBA_{}_per_game.html\".format(year)\n",
    "\n",
    "# load soup\n",
    "html = urlopen(url)\n",
    "soup = BeautifulSoup(html)"
   ]
  },
  {
   "cell_type": "code",
   "execution_count": 4,
   "metadata": {},
   "outputs": [],
   "source": [
    "# find all with html tags using 'tr'\n",
    "found = soup.findAll('tr', limit=2)\n",
    "\n",
    "# extract header texts using 'th'\n",
    "headers = [th.getText() for th in found[0].findAll('th')]\n",
    "\n",
    "# ignore column 0 with is the ranking index\n",
    "headers = headers[1:]"
   ]
  },
  {
   "cell_type": "code",
   "execution_count": 5,
   "metadata": {},
   "outputs": [],
   "source": [
    "# scrape player stats\n",
    "rows = soup.findAll('tr')[1:]\n",
    "player_stats = [[td.getText() for td in rows[i].findAll('td')] for i in range(len(rows))]\n",
    "\n",
    "# add extracted data to pd.dataframe\n",
    "stats = pd.DataFrame(player_stats, columns = headers)"
   ]
  },
  {
   "cell_type": "code",
   "execution_count": 6,
   "metadata": {},
   "outputs": [],
   "source": [
    "# save dataframe to csv in current directory\n",
    "stats.to_csv('./nba.csv')"
   ]
  }
 ],
 "metadata": {
  "kernelspec": {
   "display_name": "Python 3",
   "language": "python",
   "name": "python3"
  },
  "language_info": {
   "codemirror_mode": {
    "name": "ipython",
    "version": 3
   },
   "file_extension": ".py",
   "mimetype": "text/x-python",
   "name": "python",
   "nbconvert_exporter": "python",
   "pygments_lexer": "ipython3",
   "version": "3.8.5"
  }
 },
 "nbformat": 4,
 "nbformat_minor": 4
}
