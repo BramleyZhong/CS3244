{
 "cells": [
  {
   "cell_type": "code",
   "execution_count": 1,
   "metadata": {},
   "outputs": [],
   "source": [
    "import numpy as np\n",
    "import pandas as pd"
   ]
  },
  {
   "cell_type": "code",
   "execution_count": 2,
   "metadata": {},
   "outputs": [],
   "source": [
    "df1 = pd.read_csv(\"./matches/01.csv\")\n",
    "df2 = pd.read_csv(\"./matches/02.csv\")\n",
    "df3 = pd.read_csv(\"./matches/03.csv\")\n",
    "df4 = pd.read_csv(\"./matches/04.csv\")\n",
    "df5 = pd.read_csv(\"./matches/05.csv\")\n",
    "df6 = pd.read_csv(\"./matches/06.csv\")\n",
    "df7 = pd.read_csv(\"./matches/07.csv\")\n",
    "df8 = pd.read_csv(\"./matches/08.csv\")\n",
    "df9 = pd.read_csv(\"./matches/09.csv\")\n",
    "df10 = pd.read_csv(\"./matches/10.csv\")\n",
    "df11 = pd.read_csv(\"./matches/11.csv\")\n",
    "df12 = pd.read_csv(\"./matches/12.csv\")\n",
    "df13 = pd.read_csv(\"./matches/13.csv\")\n",
    "df14 = pd.read_csv(\"./matches/14.csv\")\n",
    "df15 = pd.read_csv(\"./matches/15.csv\")\n",
    "df16 = pd.read_csv(\"./matches/16.csv\")\n",
    "df17 = pd.read_csv(\"./matches/17.csv\")\n",
    "df18 = pd.read_csv(\"./matches/18.csv\")\n",
    "df19 = pd.read_csv(\"./matches/19.csv\")\n",
    "df20 = pd.read_csv(\"./matches/20.csv\")\n",
    "df21 = pd.read_csv(\"./matches/21.csv\")\n",
    "df22 = pd.read_csv(\"./matches/22.csv\")\n",
    "df23 = pd.read_csv(\"./matches/23.csv\")\n",
    "df24 = pd.read_csv(\"./matches/24.csv\")\n",
    "df25 = pd.read_csv(\"./matches/25.csv\")\n",
    "df26 = pd.read_csv(\"./matches/26.csv\")\n",
    "\n",
    "dfs = [df1,df2,df3,df4,df5,df6,df7,df8,df9,df10,df11,df12,df13,df14,df15,df16,df17,df18,df19,df20,df21,df22,df23,df24,df25,df26]"
   ]
  },
  {
   "cell_type": "code",
   "execution_count": 3,
   "metadata": {},
   "outputs": [],
   "source": [
    "for i in range(len(dfs)):\n",
    "    titles = dfs[i].loc[0].values\n",
    "    dfs[i].columns = titles\n",
    "    dfs[i].drop(index=0, inplace=True)\n",
    "    dfs[i].drop(columns=['Rk'], inplace=True)\n",
    "    dfs[i] = dfs[i].loc[:, dfs[i].columns.notnull()]"
   ]
  },
  {
   "cell_type": "code",
   "execution_count": 4,
   "metadata": {},
   "outputs": [],
   "source": [
    "res = dfs[0]\n",
    "\n",
    "for i in range(1, len(dfs)):\n",
    "    res = pd.concat([res, dfs[i]])"
   ]
  },
  {
   "cell_type": "code",
   "execution_count": 5,
   "metadata": {},
   "outputs": [],
   "source": [
    "res = res.reset_index()"
   ]
  },
  {
   "cell_type": "code",
   "execution_count": 6,
   "metadata": {},
   "outputs": [],
   "source": [
    "res.drop(columns=['index'],inplace=True)"
   ]
  },
  {
   "cell_type": "code",
   "execution_count": 7,
   "metadata": {},
   "outputs": [],
   "source": [
    "res.to_csv('./match_data.csv')"
   ]
  },
  {
   "cell_type": "code",
   "execution_count": null,
   "metadata": {},
   "outputs": [],
   "source": []
  }
 ],
 "metadata": {
  "kernelspec": {
   "display_name": "Python 3",
   "language": "python",
   "name": "python3"
  },
  "language_info": {
   "codemirror_mode": {
    "name": "ipython",
    "version": 3
   },
   "file_extension": ".py",
   "mimetype": "text/x-python",
   "name": "python",
   "nbconvert_exporter": "python",
   "pygments_lexer": "ipython3",
   "version": "3.7.7"
  }
 },
 "nbformat": 4,
 "nbformat_minor": 4
}
