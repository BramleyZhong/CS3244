{
 "cells": [
  {
   "cell_type": "code",
   "execution_count": 1,
   "metadata": {},
   "outputs": [],
   "source": [
    "import pandas as pd\n",
    "import numpy as np\n",
    "import seaborn as sns\n",
    "import matplotlib.pyplot as plt"
   ]
  },
  {
   "cell_type": "code",
   "execution_count": 2,
   "metadata": {},
   "outputs": [],
   "source": [
    "df = pd.read_csv(\"./final_match_player_data.csv\")\n",
    "df.drop(columns=[\"Unnamed: 0\"], inplace=True)"
   ]
  },
  {
   "cell_type": "code",
   "execution_count": 3,
   "metadata": {},
   "outputs": [],
   "source": [
    "y = df['Result']\n",
    "df['y'] = df['Result'].apply(lambda x : 1 if x[0] == 'W' else 0)"
   ]
  },
  {
   "cell_type": "code",
   "execution_count": 4,
   "metadata": {},
   "outputs": [
    {
     "data": {
      "text/plain": [
       "0    585\n",
       "1    557\n",
       "Name: y, dtype: int64"
      ]
     },
     "execution_count": 4,
     "metadata": {},
     "output_type": "execute_result"
    }
   ],
   "source": [
    "df['y'].value_counts()"
   ]
  },
  {
   "cell_type": "code",
   "execution_count": 5,
   "metadata": {},
   "outputs": [
    {
     "data": {
      "text/plain": [
       "Index(['Date', 'Tm', 'Opp', 'Result', 'MP', 'FG_AVG', 'FGA_AVG', 'FG%_AVG',\n",
       "       '2P_AVG', '2PA_AVG', '2P%_AVG', '3P_AVG', '3PA_AVG', '3P%_AVG',\n",
       "       'FT_AVG', 'FTA_AVG', 'FT%_AVG', 'PTS_AVG', 'FG.1_AVG', 'FGA.1_AVG',\n",
       "       'FG%.1_AVG', '2P.1_AVG', '2PA.1_AVG', '2P%.1_AVG', '3P.1_AVG',\n",
       "       '3PA.1_AVG', '3P%.1_AVG', 'FT.1_AVG', 'FTA.1_AVG', 'FT%.1_AVG',\n",
       "       'PTS.1_AVG', 'FG_players_AVG', 'FGA_players_AVG', 'FG%_players_AVG',\n",
       "       '3P_players_AVG', '3PA_players_AVG', '3P%_players_AVG',\n",
       "       'FT_players_AVG', 'FTA_players_AVG', 'FT%_players_AVG',\n",
       "       'ORB_players_AVG', 'DRB_players_AVG', 'TRB_players_AVG',\n",
       "       'AST_players_AVG', 'STL_players_AVG', 'BLK_players_AVG',\n",
       "       'TOV_players_AVG', 'PF_players_AVG', 'PTS_players_AVG',\n",
       "       '+/-_players_AVG', 'TS%_players_AVG', 'eFG%_players_AVG',\n",
       "       '3PAr_players_AVG', 'FTr_players_AVG', 'ORB%_players_AVG',\n",
       "       'DRB%_players_AVG', 'TRB%_players_AVG', 'AST%_players_AVG',\n",
       "       'STL%_players_AVG', 'BLK%_players_AVG', 'TOV%_players_AVG',\n",
       "       'USG%_players_AVG', 'ORtg_players_AVG', 'DRtg_players_AVG',\n",
       "       'BPM_players_AVG', 'A/T_AVG', 'FG_AVG_AVG', 'y'],\n",
       "      dtype='object')"
      ]
     },
     "execution_count": 5,
     "metadata": {},
     "output_type": "execute_result"
    }
   ],
   "source": [
    "df.columns"
   ]
  },
  {
   "cell_type": "code",
   "execution_count": 6,
   "metadata": {},
   "outputs": [],
   "source": [
    "corrMatrix = df.corr()\n",
    "upper = corrMatrix.where(np.triu(np.ones(corrMatrix.shape), k=1).astype(np.bool))\n",
    "to_drop = [column for column in upper.columns if any(upper[column] > 0.95)]"
   ]
  },
  {
   "cell_type": "code",
   "execution_count": 7,
   "metadata": {},
   "outputs": [],
   "source": [
    "df.drop(columns=to_drop, inplace=True)"
   ]
  },
  {
   "cell_type": "code",
   "execution_count": 8,
   "metadata": {},
   "outputs": [
    {
     "data": {
      "text/plain": [
       "Index(['Date', 'Tm', 'Opp', 'Result', 'MP', 'FG_AVG', 'FGA_AVG', 'FG%_AVG',\n",
       "       '2P_AVG', '2PA_AVG', '2P%_AVG', '3P_AVG', '3PA_AVG', '3P%_AVG',\n",
       "       'FT_AVG', 'FT%_AVG', 'PTS_AVG', 'FG.1_AVG', 'FGA.1_AVG', 'FG%.1_AVG',\n",
       "       '2P.1_AVG', '2PA.1_AVG', '2P%.1_AVG', '3P.1_AVG', '3PA.1_AVG',\n",
       "       '3P%.1_AVG', 'FT.1_AVG', 'FTA.1_AVG', 'FT%.1_AVG', 'PTS.1_AVG',\n",
       "       'FG_players_AVG', 'FGA_players_AVG', 'FG%_players_AVG',\n",
       "       '3P_players_AVG', '3PA_players_AVG', '3P%_players_AVG',\n",
       "       'FT_players_AVG', 'FT%_players_AVG', 'ORB_players_AVG',\n",
       "       'DRB_players_AVG', 'TRB_players_AVG', 'AST_players_AVG',\n",
       "       'STL_players_AVG', 'BLK_players_AVG', 'TOV_players_AVG',\n",
       "       'PF_players_AVG', 'PTS_players_AVG', '+/-_players_AVG',\n",
       "       'TS%_players_AVG', '3PAr_players_AVG', 'FTr_players_AVG',\n",
       "       'ORB%_players_AVG', 'DRB%_players_AVG', 'TRB%_players_AVG',\n",
       "       'AST%_players_AVG', 'STL%_players_AVG', 'BLK%_players_AVG',\n",
       "       'TOV%_players_AVG', 'USG%_players_AVG', 'ORtg_players_AVG',\n",
       "       'DRtg_players_AVG', 'BPM_players_AVG', 'A/T_AVG', 'FG_AVG_AVG', 'y'],\n",
       "      dtype='object')"
      ]
     },
     "execution_count": 8,
     "metadata": {},
     "output_type": "execute_result"
    }
   ],
   "source": [
    "df.columns"
   ]
  },
  {
   "cell_type": "code",
   "execution_count": 9,
   "metadata": {},
   "outputs": [],
   "source": [
    "df.drop(columns=['Date', 'Tm', 'Opp', 'Result'], inplace=True)"
   ]
  },
  {
   "cell_type": "code",
   "execution_count": 10,
   "metadata": {},
   "outputs": [],
   "source": [
    "df.to_csv(\"match_features.csv\")"
   ]
  },
  {
   "cell_type": "code",
   "execution_count": null,
   "metadata": {},
   "outputs": [],
   "source": []
  }
 ],
 "metadata": {
  "kernelspec": {
   "display_name": "Python 3",
   "language": "python",
   "name": "python3"
  },
  "language_info": {
   "codemirror_mode": {
    "name": "ipython",
    "version": 3
   },
   "file_extension": ".py",
   "mimetype": "text/x-python",
   "name": "python",
   "nbconvert_exporter": "python",
   "pygments_lexer": "ipython3",
   "version": "3.8.5"
  }
 },
 "nbformat": 4,
 "nbformat_minor": 4
}
